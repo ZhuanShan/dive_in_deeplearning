{
 "cells": [
  {
   "cell_type": "code",
   "execution_count": 1,
   "metadata": {},
   "outputs": [],
   "source": [
    "import numpy as np\n",
    "import torch\n",
    "from torch.utils import data\n",
    "from d2l import torch as d2l\n",
    "\n",
    "true_w = torch.tensor([2, -3.4])\n",
    "true_b = 4.2\n",
    "features, labels = d2l.synthetic_data(true_w, true_b, 1000)"
   ]
  },
  {
   "cell_type": "code",
   "execution_count": 2,
   "metadata": {},
   "outputs": [],
   "source": [
    "def load_array(data_arrays, batch_size, is_train=True):\n",
    "    dataset = data.TensorDataset(*data_arrays)                      #将数据传入，得到dataset，*为解开list传入参数\n",
    "    return data.DataLoader(dataset, batch_size, shuffle=is_train)   #给数据集，每个batch大小，打乱顺序\n",
    "\n",
    "batch_size = 10\n",
    "data_iter = load_array((features, labels), batch_size)"
   ]
  },
  {
   "cell_type": "code",
   "execution_count": 3,
   "metadata": {},
   "outputs": [
    {
     "data": {
      "text/plain": [
       "[tensor([[-0.3186,  0.2044],\n",
       "         [ 0.9669, -1.9651],\n",
       "         [-0.4255, -1.1078],\n",
       "         [-0.9105, -0.8899],\n",
       "         [ 1.0406,  0.2526],\n",
       "         [-1.4042, -1.3095],\n",
       "         [-0.3840,  1.0863],\n",
       "         [ 0.1201,  0.0218],\n",
       "         [-0.0438,  0.3517],\n",
       "         [ 0.4096,  1.4625]]),\n",
       " tensor([[ 2.8506],\n",
       "         [12.8339],\n",
       "         [ 7.1184],\n",
       "         [ 5.4167],\n",
       "         [ 5.4237],\n",
       "         [ 5.8295],\n",
       "         [-0.2776],\n",
       "         [ 4.3462],\n",
       "         [ 2.9210],\n",
       "         [ 0.0412]])]"
      ]
     },
     "execution_count": 3,
     "metadata": {},
     "output_type": "execute_result"
    }
   ],
   "source": [
    "next(iter(data_iter))           #使用iter构造Python迭代器，并使用next从迭代器中获取第一项"
   ]
  },
  {
   "cell_type": "code",
   "execution_count": 1,
   "metadata": {},
   "outputs": [],
   "source": [
    "from torch import nn\n",
    "net = nn.Sequential(nn.Linear(2,1))\n"
   ]
  },
  {
   "cell_type": "code",
   "execution_count": null,
   "metadata": {},
   "outputs": [],
   "source": [
    "  "
   ]
  }
 ],
 "metadata": {
  "kernelspec": {
   "display_name": "dive",
   "language": "python",
   "name": "python3"
  },
  "language_info": {
   "codemirror_mode": {
    "name": "ipython",
    "version": 3
   },
   "file_extension": ".py",
   "mimetype": "text/x-python",
   "name": "python",
   "nbconvert_exporter": "python",
   "pygments_lexer": "ipython3",
   "version": "3.8.16"
  },
  "orig_nbformat": 4
 },
 "nbformat": 4,
 "nbformat_minor": 2
}
