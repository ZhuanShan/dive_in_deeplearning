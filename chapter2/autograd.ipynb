{
 "cells": [
  {
   "cell_type": "code",
   "execution_count": 20,
   "metadata": {},
   "outputs": [
    {
     "data": {
      "text/plain": [
       "tensor([0., 1., 2., 3.])"
      ]
     },
     "execution_count": 20,
     "metadata": {},
     "output_type": "execute_result"
    }
   ],
   "source": [
    "import torch\n",
    "\n",
    "x = torch.arange(4.0)\n",
    "x"
   ]
  },
  {
   "cell_type": "code",
   "execution_count": 21,
   "metadata": {},
   "outputs": [],
   "source": [
    "x.requires_grad_(True)              #保存跟踪中间的微分值\n",
    "x.grad"
   ]
  },
  {
   "attachments": {},
   "cell_type": "markdown",
   "metadata": {},
   "source": [
    "$$ y=2x^2 = 2 * \\begin{bmatrix} 0\\\\ 1\\\\ 4\\\\9\\\\ \\end{bmatrix} = \\begin{bmatrix} 28 \\end{bmatrix}$$ \n"
   ]
  },
  {
   "cell_type": "code",
   "execution_count": 22,
   "metadata": {},
   "outputs": [
    {
     "data": {
      "text/plain": [
       "tensor(28., grad_fn=<MulBackward0>)"
      ]
     },
     "execution_count": 22,
     "metadata": {},
     "output_type": "execute_result"
    }
   ],
   "source": [
    "y = 2 * torch.dot(x, x)             \n",
    "y"
   ]
  },
  {
   "attachments": {},
   "cell_type": "markdown",
   "metadata": {},
   "source": [
    "$$ y' = 4x"
   ]
  },
  {
   "cell_type": "code",
   "execution_count": 23,
   "metadata": {},
   "outputs": [
    {
     "data": {
      "text/plain": [
       "tensor([ 0.,  4.,  8., 12.])"
      ]
     },
     "execution_count": 23,
     "metadata": {},
     "output_type": "execute_result"
    }
   ],
   "source": [
    "y.backward()\n",
    "x.grad"
   ]
  },
  {
   "cell_type": "code",
   "execution_count": 24,
   "metadata": {},
   "outputs": [
    {
     "data": {
      "text/plain": [
       "tensor([True, True, True, True])"
      ]
     },
     "execution_count": 24,
     "metadata": {},
     "output_type": "execute_result"
    }
   ],
   "source": [
    "x.grad == 4*x"
   ]
  },
  {
   "cell_type": "code",
   "execution_count": 35,
   "metadata": {},
   "outputs": [
    {
     "data": {
      "text/plain": [
       "tensor(2., grad_fn=<SumBackward0>)"
      ]
     },
     "execution_count": 35,
     "metadata": {},
     "output_type": "execute_result"
    }
   ],
   "source": [
    "x.grad.zero_()          #清除之前的的累积梯度\n",
    "y = x.sum()  \n",
    "y    \n"
   ]
  },
  {
   "cell_type": "code",
   "execution_count": 27,
   "metadata": {},
   "outputs": [],
   "source": [
    "x = torch.rand(3, requires_grad=True)\n",
    "y = x**2\n",
    "z = x + x\n"
   ]
  },
  {
   "cell_type": "code",
   "execution_count": 28,
   "metadata": {},
   "outputs": [
    {
     "name": "stdout",
     "output_type": "stream",
     "text": [
      "tensor(3., grad_fn=<AddBackward0>) tensor(2.) tensor(1.)\n"
     ]
    }
   ],
   "source": [
    "x = torch.tensor(1.0, requires_grad=True)\n",
    "y = torch.tensor(2.0, requires_grad=True)\n",
    "z = x**2 + y\n",
    "z.backward()\n",
    "print(z, x.grad, y.grad)"
   ]
  },
  {
   "attachments": {},
   "cell_type": "markdown",
   "metadata": {},
   "source": [
    "## **矩阵算梯度转化为标量**  \n",
    "https://zhuanlan.zhihu.com/p/83172023\n",
    "<BR> https://www.bilibili.com/video/BV1ZA411H7BU/?spm_id_from=333.337.search-card.all.click&vd_source=da5a4de0e3cf3c81922e2b9dbcbf0372\n",
    "\n",
    " $$ z =  x_1 + x_2 + 4 $$"
   ]
  },
  {
   "cell_type": "code",
   "execution_count": 30,
   "metadata": {},
   "outputs": [
    {
     "name": "stdout",
     "output_type": "stream",
     "text": [
      "tensor([1., 1.])\n"
     ]
    }
   ],
   "source": [
    "x = torch.ones(2,requires_grad=True)\n",
    "z = x + 2\n",
    "z.sum().backward()                \n",
    "print(x.grad)"
   ]
  },
  {
   "cell_type": "code",
   "execution_count": 36,
   "metadata": {},
   "outputs": [
    {
     "name": "stdout",
     "output_type": "stream",
     "text": [
      "tensor([1., 1.])\n"
     ]
    }
   ],
   "source": [
    "x = torch.ones(2,requires_grad=True)\n",
    "z = x + 2\n",
    "z.backward(torch.ones_like(z)) # grad_tensors需要与输入tensor大小一致\n",
    "print(x.grad)"
   ]
  },
  {
   "cell_type": "code",
   "execution_count": 40,
   "metadata": {},
   "outputs": [
    {
     "name": "stdout",
     "output_type": "stream",
     "text": [
      "z:tensor([[5., 8.]], grad_fn=<MmBackward0>)\n",
      "x.grad: tensor([1., 3.])\n",
      "y.grad: tensor([[2., 0.],\n",
      "        [1., 0.]])\n"
     ]
    }
   ],
   "source": [
    "x = torch.tensor([2., 1.], requires_grad=True)\n",
    "y = torch.tensor([[1., 2.], [3., 4.]], requires_grad=True)\n",
    "\n",
    "z = torch.mm(x.view(1, 2), y)\n",
    "print(f\"z:{z}\")\n",
    "z.backward(torch.Tensor([[1., 0]]), retain_graph=True)\n",
    "print(f\"x.grad: {x.grad}\")\n",
    "print(f\"y.grad: {y.grad}\")"
   ]
  },
  {
   "cell_type": "code",
   "execution_count": 41,
   "metadata": {},
   "outputs": [
    {
     "data": {
      "text/plain": [
       "tensor([True, True])"
      ]
     },
     "execution_count": 41,
     "metadata": {},
     "output_type": "execute_result"
    }
   ],
   "source": [
    "x.grad.zero_()\n",
    "y = x*x\n",
    "u = y.detach()          #将y解套，即只求z对x的梯度，将y视为常数\n",
    "z = u*x\n",
    "\n",
    "z.sum().backward()\n",
    "x.grad == u \n"
   ]
  },
  {
   "cell_type": "code",
   "execution_count": 42,
   "metadata": {},
   "outputs": [
    {
     "data": {
      "text/plain": [
       "tensor([True, True])"
      ]
     },
     "execution_count": 42,
     "metadata": {},
     "output_type": "execute_result"
    }
   ],
   "source": [
    "x.grad.zero_()\n",
    "y.sum().backward()\n",
    "x.grad == 2 * x"
   ]
  },
  {
   "cell_type": "code",
   "execution_count": 43,
   "metadata": {},
   "outputs": [],
   "source": [
    "def f(a):\n",
    "    b = a * 2\n",
    "    while b.norm()<1000:\n",
    "        b = b*2\n",
    "    if b.sum()>0:\n",
    "        c = b\n",
    "    else:\n",
    "        c = 100*b\n",
    "    return c"
   ]
  },
  {
   "cell_type": "code",
   "execution_count": 48,
   "metadata": {},
   "outputs": [
    {
     "name": "stdout",
     "output_type": "stream",
     "text": [
      "tensor(0.5682, requires_grad=True)\n"
     ]
    }
   ],
   "source": [
    "a = torch.randn(size=(), requires_grad=True)       # size=()：表示是一个标量 require_grad=True：表示需要梯度\n",
    "print(a)\n",
    "d = f(a)\n",
    "d.backward()\n"
   ]
  },
  {
   "cell_type": "code",
   "execution_count": 45,
   "metadata": {},
   "outputs": [
    {
     "data": {
      "text/plain": [
       "tensor(True)"
      ]
     },
     "execution_count": 45,
     "metadata": {},
     "output_type": "execute_result"
    }
   ],
   "source": [
    "a.grad == d / a"
   ]
  },
  {
   "cell_type": "code",
   "execution_count": 55,
   "metadata": {},
   "outputs": [
    {
     "data": {
      "image/png": "[encoded data removed]",
      "text/plain": [
       "<Figure size 640x480 with 1 Axes>"
      ]
     },
     "metadata": {},
     "output_type": "display_data"
    }
   ],
   "source": [
    "import torch\n",
    "import matplotlib.pyplot as plt\n",
    "import numpy as np\n",
    "x = torch.arange(-3*np.pi, 3*np.pi, 0.1,requires_grad=True)     #从-3Π到3Π\n",
    "y = torch.sin(x)\n",
    "\n",
    "y.sum().backward()\n",
    "\n",
    "plt.plot(x.detach(), y.detach(), label='y=sin(x)')      #不能对将要grad的张量调用numpy()，应用tensor.detach().numpy()来代替\n",
    "plt.plot(x.detach(), x.grad, label='dsin(x)=cos(x)') \n",
    "plt.legend(loc='upper center')                          #图例位置\n",
    "plt.show()\n"
   ]
  },
  {
   "cell_type": "code",
   "execution_count": null,
   "metadata": {},
   "outputs": [],
   "source": []
  }
 ],
 "metadata": {
  "kernelspec": {
   "display_name": "dive",
   "language": "python",
   "name": "python3"
  },
  "language_info": {
   "codemirror_mode": {
    "name": "ipython",
    "version": 3
   },
   "file_extension": ".py",
   "mimetype": "text/x-python",
   "name": "python",
   "nbconvert_exporter": "python",
   "pygments_lexer": "ipython3",
   "version": "3.8.16"
  },
  "orig_nbformat": 4
 },
 "nbformat": 4,
 "nbformat_minor": 2
}
